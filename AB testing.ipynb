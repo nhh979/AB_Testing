{
 "cells": [
  {
   "cell_type": "markdown",
   "id": "1acf8412-b158-4af0-b4fa-4fade0f92f49",
   "metadata": {},
   "source": [
    "https://github.com/renatofillinich/ab_test_guide_in_python/blob/master/AB%20testing%20with%20Python.ipynb\n",
    "\n",
    "https://www.kaggle.com/code/ouzcanmaden/a-b-testing#B.-Case-Study---II"
   ]
  },
  {
   "cell_type": "markdown",
   "id": "3857fc0f-1020-4512-afde-c2b999c231b4",
   "metadata": {},
   "source": [
    "# Background\n",
    "\n",
    "A product team in an online e-commerce business is working on a new version of the company's webpage with the hope that it will lead to a higher conversion rate. Each user's interaction is tracked, and a binary `converted` indicates whether the user click on the webpage or not.\n",
    "\n",
    "The team was told that the current conversion rate is 12% on average, and the company would be happy with an increase of 2% - that is, the new product can be considered a success if it can raise the conversion rate to 14%.\n",
    "\n",
    "Conversion rate: the proportion of users who complete an action, in this case clicking on the webpage, among the total number of users visiting the webpage.\n",
    "\n",
    "# Approach\n",
    "\n",
    "The team will conduct an A/B testing, performing a two-sample z-test for the difference between proportions. The team will compare the conversion between the treatment group (new page design) and the control group (old page design).\n",
    "\n",
    "# Business questions\n",
    "- Which page design resulted in a higher conversion rate during the A/B test?\n",
    "- Is the difference in conversion rate between the two page deisng statistically significant or due to chance?\n",
    "\n",
    "# Setting up the experiment\n",
    "\n",
    "## Formulating the hypothesis\n",
    "Since the team doesn't know if the new page design will perform better or worse than the current design, the team will choose a **two-tailed test**:<center>\n",
    "$H_{0}: p_1 = p_2$ <br>\n",
    "$H_{a}: p_1 \\ne p_2$\n",
    "</center>\n",
    "\n",
    "where $p_1$ and $p_2$ are the conversion rate of the new and old page design respectively. The team also sets the **confidence level** of 95%, so the level of significance is:\n",
    "<center>$\\alpha=0.05$</center>\n",
    "\n",
    "Recall: $\\alpha$ is the probablity of rejecting the null hypothesis given that the null hypothesis is true. (Probability of commiting Type I error)\n",
    "\n",
    "## Choosing sample size\n",
    "The team will not test the whole user base (population) because it would be very expensive. The conversion rate, therefore, will be just an estimate of the true rate.\n",
    "\n",
    "The number of users captured in each group, control and treatment group, will impact the precision of the estimated conversion rate. The larger the sample size, the more precise the estimates, the higher the chance to detect a difference in the two group if it exists. However, collecting a large sample will cost the company a lot of money and time to complete the test though.\n",
    "*\n",
    "To find the effective sample size, the team can use a technique call **`Power Analysis`** which calulates the smallest sample size needed for an experiment, given a required level of significance, power of the test, and effect size.\n",
    "- **Level of significance**: $\\alpha$ = 0.05\n",
    "- **Power of the test** (1 - $\\beta$): the probability of finding a statistical difference betwen the two groups in the test when a difference actually exists ($\\beta$: the probability of making Type II error). Usually set at 80% as default\n",
    "- **Effect size**: the expected difference in conversion rate between the two groups, calculated by using the funtion **`proportion_effectsize`** in `statsmodels` package, defined as the following formula: $2 \\times (arcsin(\\sqrt{p_1}) - arcsin(\\sqrt{p_2}))$\n",
    "\n",
    "Since the company wants to increase the conversion rate from 12% to 14%, the team can use these values to calculate the desire effect size.\n",
    "\n",
    "The class **`NormalIndPower`** and its method **`solve_power`** in `statsmodels` package can be used to calculate the sample size."
   ]
  },
  {
   "cell_type": "code",
   "execution_count": 329,
   "id": "14082106-75ab-4ca8-8bc2-37d56723de4a",
   "metadata": {},
   "outputs": [],
   "source": [
    "from statsmodels.stats.power import NormalIndPower\n",
    "from statsmodels.stats.proportion import proportion_effectsize\n",
    "\n",
    "from math import ceil"
   ]
  },
  {
   "cell_type": "code",
   "execution_count": 365,
   "id": "cc2f7a92-c466-4b7a-aac4-444ca317ed90",
   "metadata": {},
   "outputs": [
    {
     "name": "stdout",
     "output_type": "stream",
     "text": [
      "The smallest sample size needed for the experiment: 4433\n"
     ]
    }
   ],
   "source": [
    "# Set a confidence level\n",
    "conf_lvl = 0.95 \n",
    "\n",
    "# Level of significance                            \n",
    "alpha = 1 - conf_lvl\n",
    "\n",
    "# Calculate the effect size using proportions of 12% and 14%\n",
    "effect_size = proportion_effectsize(0.12, 0.14)   \n",
    "\n",
    "# Calculate the sample size and round up to the next number\n",
    "sample_size = NormalIndPower().solve_power(effect_size, \n",
    "                               power=0.8,\n",
    "                                alpha=alpha,\n",
    "                               ratio=1)\n",
    "sample_size = ceil(sample_size)\n",
    "print(f\"The smallest sample size needed for the experiment: {sample_size}\")                               "
   ]
  },
  {
   "cell_type": "markdown",
   "id": "59d3e4e4-d0db-47fb-8d3b-c0c7a991c135",
   "metadata": {},
   "source": [
    "# Collecting the Data\n",
    "\n",
    "Before performing a hypothesis testing, one should have a glance at the dataset, and clean it if needed."
   ]
  },
  {
   "cell_type": "code",
   "execution_count": 479,
   "id": "6d9543c7-279c-4ecb-b71c-dcae4f029974",
   "metadata": {},
   "outputs": [],
   "source": [
    "import pandas as pd\n",
    "import numpy as np\n",
    "import matplotlib.pyplot as plt\n",
    "import seaborn as sns\n",
    "\n",
    "from scipy import stats \n",
    "import statsmodels.stats.api as sms\n",
    "from statsmodels.stats.proportion import proportions_ztest, proportion_confint"
   ]
  },
  {
   "cell_type": "code",
   "execution_count": 367,
   "id": "757548ef-aad0-46bd-98a9-faaf5b341f03",
   "metadata": {},
   "outputs": [
    {
     "data": {
      "text/html": [
       "<div>\n",
       "<style scoped>\n",
       "    .dataframe tbody tr th:only-of-type {\n",
       "        vertical-align: middle;\n",
       "    }\n",
       "\n",
       "    .dataframe tbody tr th {\n",
       "        vertical-align: top;\n",
       "    }\n",
       "\n",
       "    .dataframe thead th {\n",
       "        text-align: right;\n",
       "    }\n",
       "</style>\n",
       "<table border=\"1\" class=\"dataframe\">\n",
       "  <thead>\n",
       "    <tr style=\"text-align: right;\">\n",
       "      <th></th>\n",
       "      <th>user_id</th>\n",
       "      <th>timestamp</th>\n",
       "      <th>group</th>\n",
       "      <th>landing_page</th>\n",
       "      <th>converted</th>\n",
       "    </tr>\n",
       "  </thead>\n",
       "  <tbody>\n",
       "    <tr>\n",
       "      <th>0</th>\n",
       "      <td>851104</td>\n",
       "      <td>2017-01-21 22:11:48.556739</td>\n",
       "      <td>control</td>\n",
       "      <td>old_page</td>\n",
       "      <td>0</td>\n",
       "    </tr>\n",
       "    <tr>\n",
       "      <th>1</th>\n",
       "      <td>804228</td>\n",
       "      <td>2017-01-12 08:01:45.159739</td>\n",
       "      <td>control</td>\n",
       "      <td>old_page</td>\n",
       "      <td>0</td>\n",
       "    </tr>\n",
       "    <tr>\n",
       "      <th>2</th>\n",
       "      <td>661590</td>\n",
       "      <td>2017-01-11 16:55:06.154213</td>\n",
       "      <td>treatment</td>\n",
       "      <td>new_page</td>\n",
       "      <td>0</td>\n",
       "    </tr>\n",
       "    <tr>\n",
       "      <th>3</th>\n",
       "      <td>853541</td>\n",
       "      <td>2017-01-08 18:28:03.143765</td>\n",
       "      <td>treatment</td>\n",
       "      <td>new_page</td>\n",
       "      <td>0</td>\n",
       "    </tr>\n",
       "    <tr>\n",
       "      <th>4</th>\n",
       "      <td>864975</td>\n",
       "      <td>2017-01-21 01:52:26.210827</td>\n",
       "      <td>control</td>\n",
       "      <td>old_page</td>\n",
       "      <td>1</td>\n",
       "    </tr>\n",
       "  </tbody>\n",
       "</table>\n",
       "</div>"
      ],
      "text/plain": [
       "   user_id                   timestamp      group landing_page  converted\n",
       "0   851104  2017-01-21 22:11:48.556739    control     old_page          0\n",
       "1   804228  2017-01-12 08:01:45.159739    control     old_page          0\n",
       "2   661590  2017-01-11 16:55:06.154213  treatment     new_page          0\n",
       "3   853541  2017-01-08 18:28:03.143765  treatment     new_page          0\n",
       "4   864975  2017-01-21 01:52:26.210827    control     old_page          1"
      ]
     },
     "execution_count": 367,
     "metadata": {},
     "output_type": "execute_result"
    }
   ],
   "source": [
    "df = pd.read_csv('ab_data.csv')\n",
    "df.head()"
   ]
  },
  {
   "cell_type": "code",
   "execution_count": 368,
   "id": "2fe689fc-1553-4bb5-8f68-838159ba25cc",
   "metadata": {},
   "outputs": [
    {
     "data": {
      "text/plain": [
       "(294478, 5)"
      ]
     },
     "execution_count": 368,
     "metadata": {},
     "output_type": "execute_result"
    }
   ],
   "source": [
    "df.shape"
   ]
  },
  {
   "cell_type": "code",
   "execution_count": 369,
   "id": "7a3c57e9-8f40-4ca0-b335-33e601f8f0fc",
   "metadata": {},
   "outputs": [
    {
     "name": "stdout",
     "output_type": "stream",
     "text": [
      "<class 'pandas.core.frame.DataFrame'>\n",
      "RangeIndex: 294478 entries, 0 to 294477\n",
      "Data columns (total 5 columns):\n",
      " #   Column        Non-Null Count   Dtype \n",
      "---  ------        --------------   ----- \n",
      " 0   user_id       294478 non-null  int64 \n",
      " 1   timestamp     294478 non-null  object\n",
      " 2   group         294478 non-null  object\n",
      " 3   landing_page  294478 non-null  object\n",
      " 4   converted     294478 non-null  int64 \n",
      "dtypes: int64(2), object(3)\n",
      "memory usage: 11.2+ MB\n"
     ]
    }
   ],
   "source": [
    "df.info()"
   ]
  },
  {
   "cell_type": "code",
   "execution_count": null,
   "id": "695a72d1-8ee7-4eac-a904-2c6e8522e8b2",
   "metadata": {},
   "outputs": [],
   "source": [
    "# Timestamp\n",
    "df['timestamp'] = df.timestamp.apply(pd.to_datetime)"
   ]
  },
  {
   "cell_type": "code",
   "execution_count": 391,
   "id": "89c49c17-42ad-453b-a8a4-0a2636375600",
   "metadata": {},
   "outputs": [
    {
     "name": "stderr",
     "output_type": "stream",
     "text": [
      "C:\\Users\\hoang\\AppData\\Local\\Temp/ipykernel_11704/2884002236.py:1: FutureWarning: Treating datetime data as categorical rather than numeric in `.describe` is deprecated and will be removed in a future version of pandas. Specify `datetime_is_numeric=True` to silence this warning and adopt the future behavior now.\n",
      "  df.describe(include='all')\n"
     ]
    },
    {
     "data": {
      "text/html": [
       "<div>\n",
       "<style scoped>\n",
       "    .dataframe tbody tr th:only-of-type {\n",
       "        vertical-align: middle;\n",
       "    }\n",
       "\n",
       "    .dataframe tbody tr th {\n",
       "        vertical-align: top;\n",
       "    }\n",
       "\n",
       "    .dataframe thead th {\n",
       "        text-align: right;\n",
       "    }\n",
       "</style>\n",
       "<table border=\"1\" class=\"dataframe\">\n",
       "  <thead>\n",
       "    <tr style=\"text-align: right;\">\n",
       "      <th></th>\n",
       "      <th>user_id</th>\n",
       "      <th>timestamp</th>\n",
       "      <th>group</th>\n",
       "      <th>landing_page</th>\n",
       "      <th>converted</th>\n",
       "    </tr>\n",
       "  </thead>\n",
       "  <tbody>\n",
       "    <tr>\n",
       "      <th>count</th>\n",
       "      <td>294478.000000</td>\n",
       "      <td>294478</td>\n",
       "      <td>294478</td>\n",
       "      <td>294478</td>\n",
       "      <td>294478.000000</td>\n",
       "    </tr>\n",
       "    <tr>\n",
       "      <th>unique</th>\n",
       "      <td>NaN</td>\n",
       "      <td>294478</td>\n",
       "      <td>2</td>\n",
       "      <td>2</td>\n",
       "      <td>NaN</td>\n",
       "    </tr>\n",
       "    <tr>\n",
       "      <th>top</th>\n",
       "      <td>NaN</td>\n",
       "      <td>2017-01-21 22:11:48.556739</td>\n",
       "      <td>treatment</td>\n",
       "      <td>old_page</td>\n",
       "      <td>NaN</td>\n",
       "    </tr>\n",
       "    <tr>\n",
       "      <th>freq</th>\n",
       "      <td>NaN</td>\n",
       "      <td>1</td>\n",
       "      <td>147276</td>\n",
       "      <td>147239</td>\n",
       "      <td>NaN</td>\n",
       "    </tr>\n",
       "    <tr>\n",
       "      <th>first</th>\n",
       "      <td>NaN</td>\n",
       "      <td>2017-01-02 13:42:05.378582</td>\n",
       "      <td>NaN</td>\n",
       "      <td>NaN</td>\n",
       "      <td>NaN</td>\n",
       "    </tr>\n",
       "    <tr>\n",
       "      <th>last</th>\n",
       "      <td>NaN</td>\n",
       "      <td>2017-01-24 13:41:54.460509</td>\n",
       "      <td>NaN</td>\n",
       "      <td>NaN</td>\n",
       "      <td>NaN</td>\n",
       "    </tr>\n",
       "    <tr>\n",
       "      <th>mean</th>\n",
       "      <td>787974.124733</td>\n",
       "      <td>NaN</td>\n",
       "      <td>NaN</td>\n",
       "      <td>NaN</td>\n",
       "      <td>0.119659</td>\n",
       "    </tr>\n",
       "    <tr>\n",
       "      <th>std</th>\n",
       "      <td>91210.823776</td>\n",
       "      <td>NaN</td>\n",
       "      <td>NaN</td>\n",
       "      <td>NaN</td>\n",
       "      <td>0.324563</td>\n",
       "    </tr>\n",
       "    <tr>\n",
       "      <th>min</th>\n",
       "      <td>630000.000000</td>\n",
       "      <td>NaN</td>\n",
       "      <td>NaN</td>\n",
       "      <td>NaN</td>\n",
       "      <td>0.000000</td>\n",
       "    </tr>\n",
       "    <tr>\n",
       "      <th>25%</th>\n",
       "      <td>709032.250000</td>\n",
       "      <td>NaN</td>\n",
       "      <td>NaN</td>\n",
       "      <td>NaN</td>\n",
       "      <td>0.000000</td>\n",
       "    </tr>\n",
       "    <tr>\n",
       "      <th>50%</th>\n",
       "      <td>787933.500000</td>\n",
       "      <td>NaN</td>\n",
       "      <td>NaN</td>\n",
       "      <td>NaN</td>\n",
       "      <td>0.000000</td>\n",
       "    </tr>\n",
       "    <tr>\n",
       "      <th>75%</th>\n",
       "      <td>866911.750000</td>\n",
       "      <td>NaN</td>\n",
       "      <td>NaN</td>\n",
       "      <td>NaN</td>\n",
       "      <td>0.000000</td>\n",
       "    </tr>\n",
       "    <tr>\n",
       "      <th>max</th>\n",
       "      <td>945999.000000</td>\n",
       "      <td>NaN</td>\n",
       "      <td>NaN</td>\n",
       "      <td>NaN</td>\n",
       "      <td>1.000000</td>\n",
       "    </tr>\n",
       "  </tbody>\n",
       "</table>\n",
       "</div>"
      ],
      "text/plain": [
       "              user_id                   timestamp      group landing_page  \\\n",
       "count   294478.000000                      294478     294478       294478   \n",
       "unique            NaN                      294478          2            2   \n",
       "top               NaN  2017-01-21 22:11:48.556739  treatment     old_page   \n",
       "freq              NaN                           1     147276       147239   \n",
       "first             NaN  2017-01-02 13:42:05.378582        NaN          NaN   \n",
       "last              NaN  2017-01-24 13:41:54.460509        NaN          NaN   \n",
       "mean    787974.124733                         NaN        NaN          NaN   \n",
       "std      91210.823776                         NaN        NaN          NaN   \n",
       "min     630000.000000                         NaN        NaN          NaN   \n",
       "25%     709032.250000                         NaN        NaN          NaN   \n",
       "50%     787933.500000                         NaN        NaN          NaN   \n",
       "75%     866911.750000                         NaN        NaN          NaN   \n",
       "max     945999.000000                         NaN        NaN          NaN   \n",
       "\n",
       "            converted  \n",
       "count   294478.000000  \n",
       "unique            NaN  \n",
       "top               NaN  \n",
       "freq              NaN  \n",
       "first             NaN  \n",
       "last              NaN  \n",
       "mean         0.119659  \n",
       "std          0.324563  \n",
       "min          0.000000  \n",
       "25%          0.000000  \n",
       "50%          0.000000  \n",
       "75%          0.000000  \n",
       "max          1.000000  "
      ]
     },
     "execution_count": 391,
     "metadata": {},
     "output_type": "execute_result"
    }
   ],
   "source": [
    "df.describe(include='all')"
   ]
  },
  {
   "cell_type": "code",
   "execution_count": 392,
   "id": "cf2d9b51-1ea3-4701-a780-65a0f3bd7bca",
   "metadata": {},
   "outputs": [
    {
     "data": {
      "text/plain": [
       "user_id         [851104, 804228, 661590, 853541, 864975, 93692...\n",
       "timestamp       [2017-01-21T22:11:48.556739000, 2017-01-12T08:...\n",
       "group                                        [control, treatment]\n",
       "landing_page                                 [old_page, new_page]\n",
       "converted                                                  [0, 1]\n",
       "dtype: object"
      ]
     },
     "execution_count": 392,
     "metadata": {},
     "output_type": "execute_result"
    }
   ],
   "source": [
    "# Unique values in each column\n",
    "df.apply(pd.unique)"
   ]
  },
  {
   "cell_type": "code",
   "execution_count": 371,
   "id": "7a33b130-065b-40c9-b025-2244e0dd0d9d",
   "metadata": {},
   "outputs": [
    {
     "data": {
      "text/html": [
       "<div>\n",
       "<style scoped>\n",
       "    .dataframe tbody tr th:only-of-type {\n",
       "        vertical-align: middle;\n",
       "    }\n",
       "\n",
       "    .dataframe tbody tr th {\n",
       "        vertical-align: top;\n",
       "    }\n",
       "\n",
       "    .dataframe thead th {\n",
       "        text-align: right;\n",
       "    }\n",
       "</style>\n",
       "<table border=\"1\" class=\"dataframe\">\n",
       "  <thead>\n",
       "    <tr style=\"text-align: right;\">\n",
       "      <th>landing_page</th>\n",
       "      <th>new_page</th>\n",
       "      <th>old_page</th>\n",
       "    </tr>\n",
       "    <tr>\n",
       "      <th>group</th>\n",
       "      <th></th>\n",
       "      <th></th>\n",
       "    </tr>\n",
       "  </thead>\n",
       "  <tbody>\n",
       "    <tr>\n",
       "      <th>control</th>\n",
       "      <td>1928</td>\n",
       "      <td>145274</td>\n",
       "    </tr>\n",
       "    <tr>\n",
       "      <th>treatment</th>\n",
       "      <td>145311</td>\n",
       "      <td>1965</td>\n",
       "    </tr>\n",
       "  </tbody>\n",
       "</table>\n",
       "</div>"
      ],
      "text/plain": [
       "landing_page  new_page  old_page\n",
       "group                           \n",
       "control           1928    145274\n",
       "treatment       145311      1965"
      ]
     },
     "execution_count": 371,
     "metadata": {},
     "output_type": "execute_result"
    }
   ],
   "source": [
    "# Number of users in each group \n",
    "pd.crosstab(df.group, df.landing_page)"
   ]
  },
  {
   "cell_type": "markdown",
   "id": "dc7fa236-2822-47a1-8f3b-e1ef5765d70f",
   "metadata": {},
   "source": [
    "The dataset contains 294478 rows and 5 columns:\n",
    "- `user_id`: the ID of each user\n",
    "- `timestamp`: timestamp of each interaction\n",
    "- `group`: the group that the user is assigned to\n",
    "- `landing_page`: the design that the user saw in the interaction\n",
    "- `converted`: wheter the user ended in a conversion or not\n",
    "\n",
    "The cross table above shows that some users in the control group were shown the new page design, and some users in the treatment group were shown the old page design. The team needs to check if those users are present in both groups, if so, they need to be removed from the dataset because the test requires the samples to be independent.\n"
   ]
  },
  {
   "cell_type": "code",
   "execution_count": 372,
   "id": "6afb6699-d47f-4ab0-8d78-18f75efcb1be",
   "metadata": {},
   "outputs": [
    {
     "data": {
      "text/plain": [
       "3894"
      ]
     },
     "execution_count": 372,
     "metadata": {},
     "output_type": "execute_result"
    }
   ],
   "source": [
    "df.duplicated(subset='user_id').sum()"
   ]
  },
  {
   "cell_type": "markdown",
   "id": "4cfd365f-6c32-4984-8ab1-3f3a6a58586d",
   "metadata": {},
   "source": [
    "There are 3894 users who appear more than one time in the dataset.\n",
    "\n",
    "Now, remove all records that contain those user IDs."
   ]
  },
  {
   "cell_type": "code",
   "execution_count": 373,
   "id": "05f8e86e-fe4d-405d-b26b-cf5bfd4a180f",
   "metadata": {},
   "outputs": [
    {
     "data": {
      "text/html": [
       "<div>\n",
       "<style scoped>\n",
       "    .dataframe tbody tr th:only-of-type {\n",
       "        vertical-align: middle;\n",
       "    }\n",
       "\n",
       "    .dataframe tbody tr th {\n",
       "        vertical-align: top;\n",
       "    }\n",
       "\n",
       "    .dataframe thead th {\n",
       "        text-align: right;\n",
       "    }\n",
       "</style>\n",
       "<table border=\"1\" class=\"dataframe\">\n",
       "  <thead>\n",
       "    <tr style=\"text-align: right;\">\n",
       "      <th>landing_page</th>\n",
       "      <th>new_page</th>\n",
       "      <th>old_page</th>\n",
       "    </tr>\n",
       "    <tr>\n",
       "      <th>group</th>\n",
       "      <th></th>\n",
       "      <th></th>\n",
       "    </tr>\n",
       "  </thead>\n",
       "  <tbody>\n",
       "    <tr>\n",
       "      <th>control</th>\n",
       "      <td>0</td>\n",
       "      <td>143293</td>\n",
       "    </tr>\n",
       "    <tr>\n",
       "      <th>treatment</th>\n",
       "      <td>143397</td>\n",
       "      <td>0</td>\n",
       "    </tr>\n",
       "  </tbody>\n",
       "</table>\n",
       "</div>"
      ],
      "text/plain": [
       "landing_page  new_page  old_page\n",
       "group                           \n",
       "control              0    143293\n",
       "treatment       143397         0"
      ]
     },
     "execution_count": 373,
     "metadata": {},
     "output_type": "execute_result"
    }
   ],
   "source": [
    "df_cleaned = df.drop_duplicates(subset='user_id', keep=False)\n",
    "\n",
    "# Compute the number of users in each group again\n",
    "pd.crosstab(df_cleaned.group, df_cleaned.landing_page)"
   ]
  },
  {
   "cell_type": "markdown",
   "id": "e49106c2-4b8a-4b23-bb80-356ceb395f83",
   "metadata": {},
   "source": [
    "Now the table shows that all users in the control groups only saw the old page design, and all users in the treatment group only saw the new page design.\n",
    "\n",
    "The next step is to collect the samples."
   ]
  },
  {
   "cell_type": "code",
   "execution_count": 470,
   "id": "4a686a8f-f56f-45c0-bee8-68310bcdff73",
   "metadata": {},
   "outputs": [],
   "source": [
    "# Setting the random seed\n",
    "SEED = 42\n",
    "\n",
    "# Randomly collect samples with the chosen random seed\n",
    "sample_control = df_cleaned.loc[df_cleaned.group == 'control'].sample(sample_size, random_state=SEED)\n",
    "sample_treatment = df_cleaned.loc[df_cleaned.group == 'treatment'].sample(sample_size, random_state=SEED)\n",
    "\n",
    "# Concatenate both samples\n",
    "ab_test = pd.concat([sample_control, sample_treatment], axis=0).reset_index(drop=True)"
   ]
  },
  {
   "cell_type": "code",
   "execution_count": 471,
   "id": "e8207f06-eee6-4893-9fe9-4bab13998bc4",
   "metadata": {},
   "outputs": [
    {
     "data": {
      "text/html": [
       "<style type=\"text/css\">\n",
       "</style>\n",
       "<table id=\"T_10149_\">\n",
       "  <thead>\n",
       "    <tr>\n",
       "      <th class=\"blank level0\" >&nbsp;</th>\n",
       "      <th class=\"col_heading level0 col0\" >conversion_rate</th>\n",
       "      <th class=\"col_heading level0 col1\" >std_dev</th>\n",
       "      <th class=\"col_heading level0 col2\" >std_error</th>\n",
       "    </tr>\n",
       "    <tr>\n",
       "      <th class=\"index_name level0\" >group</th>\n",
       "      <th class=\"blank col0\" >&nbsp;</th>\n",
       "      <th class=\"blank col1\" >&nbsp;</th>\n",
       "      <th class=\"blank col2\" >&nbsp;</th>\n",
       "    </tr>\n",
       "  </thead>\n",
       "  <tbody>\n",
       "    <tr>\n",
       "      <th id=\"T_10149_level0_row0\" class=\"row_heading level0 row0\" >control</th>\n",
       "      <td id=\"T_10149_row0_col0\" class=\"data row0 col0\" >0.1126</td>\n",
       "      <td id=\"T_10149_row0_col1\" class=\"data row0 col1\" >0.3161</td>\n",
       "      <td id=\"T_10149_row0_col2\" class=\"data row0 col2\" >0.0047</td>\n",
       "    </tr>\n",
       "    <tr>\n",
       "      <th id=\"T_10149_level0_row1\" class=\"row_heading level0 row1\" >treatment</th>\n",
       "      <td id=\"T_10149_row1_col0\" class=\"data row1 col0\" >0.1270</td>\n",
       "      <td id=\"T_10149_row1_col1\" class=\"data row1 col1\" >0.3330</td>\n",
       "      <td id=\"T_10149_row1_col2\" class=\"data row1 col2\" >0.0050</td>\n",
       "    </tr>\n",
       "  </tbody>\n",
       "</table>\n"
      ],
      "text/plain": [
       "<pandas.io.formats.style.Styler at 0x1c61f8905b0>"
      ]
     },
     "execution_count": 471,
     "metadata": {},
     "output_type": "execute_result"
    }
   ],
   "source": [
    "# Calculate the conversion rate, standard deviation, and standard error\n",
    "conversion_rate = ab_test.groupby('group').converted.agg([np.mean, np.std, stats.sem])\n",
    "conversion_rate.columns = ['conversion_rate', 'std_dev', 'std_error']\n",
    "conversion_rate.style.format('{:.4f}')"
   ]
  },
  {
   "cell_type": "markdown",
   "id": "7dd164b6-08cf-473f-90a7-fa17336a1c51",
   "metadata": {},
   "source": [
    "- Conversion rate: represent the ratio between the number of users clicking on the webpage and the total number of users shown the webpage.\n",
    "- The standard devitation: provide information about the spread of the conversion rate values around the mean.\n",
    "- The standard error: measure the precision of the estimated mean conversion rate.\n",
    "\n",
    "The stats above shows that there seems to be small difference in conversion rate between the two groups, with the treatment group performing slightly better, approximately 11.26% vs 12.70%."
   ]
  },
  {
   "cell_type": "code",
   "execution_count": 478,
   "id": "3a88d5fe-1322-47cc-9e35-fe0d7252361d",
   "metadata": {},
   "outputs": [
    {
     "data": {
      "image/png": "[encoded data removed]",
      "text/plain": [
       "<Figure size 432x288 with 1 Axes>"
      ]
     },
     "metadata": {
      "needs_background": "light"
     },
     "output_type": "display_data"
    }
   ],
   "source": [
    "sns.barplot(data=ab_test, x='group', y='converted')\n",
    "plt.xlabel(\"Group\")\n",
    "plt.ylabel(\"Conversion rate\")\n",
    "plt.title(\"Conversion Rate by Group\")\n",
    "plt.show()"
   ]
  },
  {
   "cell_type": "markdown",
   "id": "75dac5c3-d539-4c8b-9b39-0fa052970666",
   "metadata": {},
   "source": [
    "To determine this difference is statistically significant or due to chance, the team will proceed to the last stage, testing the hypothesis\n",
    "\n",
    "# Testing the hypothesis"
   ]
  },
  {
   "cell_type": "code",
   "execution_count": 482,
   "id": "9552f1d0-bad0-433a-92a6-ea6f206dd1ec",
   "metadata": {},
   "outputs": [
    {
     "name": "stdout",
     "output_type": "stream",
     "text": [
      "z statistic: -2.0933\n",
      "p-value: 0.0363\n",
      "95% confidence interval for control group: (0.1033, 0.1172)\n",
      "95% confidence interval for treatment group: (0.1219, 0.1368)\n"
     ]
    }
   ],
   "source": [
    "# Extract the converted values in each group\n",
    "control_converted = ab_test.query('group == \"control\"')['converted']\n",
    "treatment_converted = ab_test.query('group == \"treatment\"')['converted']\n",
    "\n",
    "# Calculate number of successes in each groups\n",
    "n_successes = [control_converted.sum(), treatment_converted.sum()]\n",
    "# Number of trials\n",
    "n_trials = [len(control_converted), len(treatment_converted)]\n",
    "\n",
    "# Compute the test statistics and p-value\n",
    "z_stat, p_value = proportions_ztest(n_successes, n_trials )\n",
    "(lower_con, upper_con,), (lower_treat, upper_treat) = proportion_confint(n_successes, n_trials, alpha=alpha)\n",
    "\n",
    "print(f\"z statistic: {z_stat:.4f}\")\n",
    "print(f'p-value: {p_value:.4f}')\n",
    "print(f\"95% confidence interval for control group: ({lower_con:.4f}, {upper_con:.4f})\")\n",
    "print(f\"95% confidence interval for treatment group: ({lower_treat:.4f}, {upper_treat:.4f})\")"
   ]
  },
  {
   "cell_type": "markdown",
   "id": "4ee31871-c922-4dae-ba94-594e3935ca66",
   "metadata": {},
   "source": [
    "# Conclusion\n",
    "\n",
    "Since the p-value = 0.0363 is less than $\\alpha$ = 0.05, there is sufficient evidence to reject the null hypothesis. The team can conclude that there is a statistically significant difference in conversion rate between the two page designs. Furthermore, the stat shows that the new design resulted in higher click through rate."
   ]
  },
  {
   "cell_type": "markdown",
   "id": "2b6a6c8d-df75-4b46-8741-16618feeb45c",
   "metadata": {},
   "source": [
    "# Appendix"
   ]
  },
  {
   "cell_type": "code",
   "execution_count": 483,
   "id": "020a3f5b-7ce0-499b-acda-15c1c661345d",
   "metadata": {},
   "outputs": [
    {
     "name": "stdout",
     "output_type": "stream",
     "text": [
      "Test statistics: -2.093258911271672\n",
      "P-value: 0.036326048410088685\n"
     ]
    }
   ],
   "source": [
    "# Manually calculate\n",
    "p1 = control_converted.mean()\n",
    "p2 = treatment_converted.mean()\n",
    "n1 = n2 = sample_size\n",
    "weighted_est = (p1 * n1 + p2 * n2) / (n1 + n2)\n",
    "\n",
    "z_test = (p1 - p2) / np.sqrt(weighted_est*(1-weighted_est)*(1/n1 + 1/n2))\n",
    "p_value = (1 - stats.norm.cdf(np.abs(z_test)))*2\n",
    "\n",
    "print(f\"Test statistics: {z_test}\")\n",
    "print(f\"P-value: {p_value}\")"
   ]
  },
  {
   "cell_type": "markdown",
   "id": "d8e0ceed-a0c8-4bae-9d65-a60a9fb3c227",
   "metadata": {},
   "source": []
  }
 ],
 "metadata": {
  "kernelspec": {
   "display_name": "Python 3 (ipykernel)",
   "language": "python",
   "name": "python3"
  },
  "language_info": {
   "codemirror_mode": {
    "name": "ipython",
    "version": 3
   },
   "file_extension": ".py",
   "mimetype": "text/x-python",
   "name": "python",
   "nbconvert_exporter": "python",
   "pygments_lexer": "ipython3",
   "version": "3.9.7"
  }
 },
 "nbformat": 4,
 "nbformat_minor": 5
}
